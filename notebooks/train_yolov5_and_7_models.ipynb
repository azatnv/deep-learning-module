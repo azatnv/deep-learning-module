{
  "nbformat": 4,
  "nbformat_minor": 0,
  "metadata": {
    "colab": {
      "provenance": []
    },
    "kernelspec": {
      "name": "python3",
      "display_name": "Python 3"
    },
    "language_info": {
      "name": "python"
    },
    "accelerator": "GPU"
  },
  "cells": [
    {
      "cell_type": "code",
      "source": [
        "!sudo apt-get update -y\n",
        "!sudo apt-get install python3.8\n",
        "from IPython.display import clear_output \n",
        "\n",
        "clear_output()\n",
        "!sudo update-alternatives --install /usr/bin/python3 python3 /usr/bin/python3.8 1\n",
        "!sudo update-alternatives --config python3\n",
        "\n",
        "!sudo apt install python3-pip\n",
        "!python -m pip install --upgrade pip\n",
        "\n",
        "clear_output()\n",
        "!python --version\n",
        "!pip --version"
      ],
      "metadata": {
        "colab": {
          "base_uri": "https://localhost:8080/"
        },
        "id": "LIwX8dpWt4F9",
        "outputId": "259ee1e1-d06c-4ab1-f098-de81afa5d58a"
      },
      "execution_count": null,
      "outputs": [
        {
          "output_type": "stream",
          "name": "stdout",
          "text": [
            "Python 3.7.14\n",
            "pip 22.2.2 from /usr/local/lib/python3.7/dist-packages/pip (python 3.7)\n"
          ]
        }
      ]
    },
    {
      "cell_type": "markdown",
      "source": [
        "#Yolov5"
      ],
      "metadata": {
        "id": "RcA6b0ZpDYWz"
      }
    },
    {
      "cell_type": "code",
      "execution_count": null,
      "metadata": {
        "colab": {
          "base_uri": "https://localhost:8080/"
        },
        "id": "N8Ri77G0qMy5",
        "outputId": "45a30e0d-23c2-4030-e53f-6edb05e2529b"
      },
      "outputs": [
        {
          "output_type": "stream",
          "name": "stdout",
          "text": [
            "fatal: destination path 'yolov5' already exists and is not an empty directory.\n"
          ]
        }
      ],
      "source": [
        "!git clone https://github.com/ultralytics/yolov5"
      ]
    },
    {
      "cell_type": "code",
      "source": [
        "!pip install -qr https://raw.githubusercontent.com/ultralytics/yolov5/master/requirements.txt > /dev/null"
      ],
      "metadata": {
        "colab": {
          "base_uri": "https://localhost:8080/"
        },
        "id": "t8GmVBPutL5z",
        "outputId": "a32c22dc-5a4e-447c-fd25-b4dbc26e7b63"
      },
      "execution_count": null,
      "outputs": [
        {
          "output_type": "stream",
          "name": "stdout",
          "text": [
            "\u001b[33mWARNING: Running pip as the 'root' user can result in broken permissions and conflicting behaviour with the system package manager. It is recommended to use a virtual environment instead: https://pip.pypa.io/warnings/venv\u001b[0m\u001b[33m\n",
            "\u001b[0m"
          ]
        }
      ]
    },
    {
      "cell_type": "markdown",
      "source": [
        "#Yolov7"
      ],
      "metadata": {
        "id": "P_tsnRS1DeFp"
      }
    },
    {
      "cell_type": "code",
      "source": [
        "!git clone https://github.com/WongKinYiu/yolov7"
      ],
      "metadata": {
        "colab": {
          "base_uri": "https://localhost:8080/"
        },
        "id": "UhZx_8RiDhsJ",
        "outputId": "cdeb8c34-44d5-4c1a-83af-f22c2f65e62f"
      },
      "execution_count": null,
      "outputs": [
        {
          "output_type": "stream",
          "name": "stdout",
          "text": [
            "Cloning into 'yolov7'...\n",
            "remote: Enumerating objects: 975, done.\u001b[K\n",
            "remote: Counting objects: 100% (302/302), done.\u001b[K\n",
            "remote: Compressing objects: 100% (50/50), done.\u001b[K\n",
            "remote: Total 975 (delta 262), reused 252 (delta 252), pack-reused 673\u001b[K\n",
            "Receiving objects: 100% (975/975), 68.17 MiB | 13.44 MiB/s, done.\n",
            "Resolving deltas: 100% (515/515), done.\n"
          ]
        }
      ]
    },
    {
      "cell_type": "code",
      "source": [
        "!pip install -qr https://raw.githubusercontent.com/WongKinYiu/yolov7/master/requirements.txt > /dev/null"
      ],
      "metadata": {
        "colab": {
          "base_uri": "https://localhost:8080/"
        },
        "id": "YUuymbXIDrEJ",
        "outputId": "0e5d79ba-83cf-4780-c76b-f5392761b0b1"
      },
      "execution_count": null,
      "outputs": [
        {
          "output_type": "stream",
          "name": "stdout",
          "text": [
            "\u001b[33mWARNING: Running pip as the 'root' user can result in broken permissions and conflicting behaviour with the system package manager. It is recommended to use a virtual environment instead: https://pip.pypa.io/warnings/venv\u001b[0m\u001b[33m\n",
            "\u001b[0m"
          ]
        }
      ]
    },
    {
      "cell_type": "code",
      "source": [
        "!pip install google > /dev/null\n",
        "\n",
        "from google.colab import drive\n",
        "drive.mount('/content/drive')"
      ],
      "metadata": {
        "colab": {
          "base_uri": "https://localhost:8080/"
        },
        "id": "HWdixLVNtcqg",
        "outputId": "a8cd685f-93e4-452d-f0f7-c5b4a95a6293"
      },
      "execution_count": null,
      "outputs": [
        {
          "output_type": "stream",
          "name": "stdout",
          "text": [
            "\u001b[33mWARNING: Running pip as the 'root' user can result in broken permissions and conflicting behaviour with the system package manager. It is recommended to use a virtual environment instead: https://pip.pypa.io/warnings/venv\u001b[0m\u001b[33m\n",
            "\u001b[0mMounted at /content/drive\n"
          ]
        }
      ]
    },
    {
      "cell_type": "markdown",
      "source": [
        "# Обучение baseline моделей n/s/m с дефолтными параметрами. "
      ],
      "metadata": {
        "id": "W40VET6xvaco"
      }
    },
    {
      "cell_type": "code",
      "source": [
        "!pip install gdown > /dev/null\n",
        "\n",
        "# %cd /content/yolov5\n",
        "%cd /content/yolov7\n",
        "%mkdir mydata\n",
        "\n",
        "# car-plates.yaml\n",
        "!gdown https://drive.google.com/file/d/1X714KcFQ2HbHegVXhMGyz5jXKUTMq-Al/view?usp=sharing -O mydata/car-plates.yaml --fuzzy\n",
        "# yolov5n.yaml\n",
        "!gdown https://drive.google.com/file/d/1KgKUtrtU3e2-oKPekY26QFLJhFGEkHur/view?usp=sharing -O mydata/yolov5n.yaml --fuzzy\n",
        "# yolov5s.yaml\n",
        "!gdown https://drive.google.com/file/d/1EcP2eGphfqe4KGsQaTEeUakifhMWOrac/view?usp=sharing -O mydata/yolov5s.yaml --fuzzy\n",
        "# yolov5m.yaml\n",
        "!gdown https://drive.google.com/file/d/1whQDYEi7TVf37WRjNK3OPtMll69rxEoF/view?usp=sharing -O mydata/yolov5m.yaml --fuzzy\n",
        "\n",
        "\n",
        "# yolov5x.yaml\n",
        "!gdown https://drive.google.com/file/d/1yLFcx5jytMPFIMZtTFM_8BvXIIe_TYZY/view?usp=sharing -O mydata/yolov5x.yaml --fuzzy\n",
        "\n",
        "# yolov5m6.yaml\n",
        "!gdown https://drive.google.com/file/d/1uD2zKZNZ-hdx_u7yEoHdufDqmY4LrUHv/view?usp=sharing -O mydata/yolov5m6.yaml --fuzzy\n",
        "\n",
        "\n",
        "# car-plates-v7.yaml\n",
        "!gdown https://drive.google.com/file/d/1OS9gjRPyqzQzOrh2eeBi9O208B9ZkcyL/view?usp=sharing -O mydata/car-plates-v7.yaml --fuzzy\n",
        "\n",
        "# yolov7e6.yaml\n",
        "!gdown https://drive.google.com/file/d/1h6CPfVwFm-F420EpvmZKOaiFKNXQX55q/view?usp=sharing -O mydata/yolov7e6.yaml --fuzzy"
      ],
      "metadata": {
        "id": "dMi5z-6rvar-",
        "colab": {
          "base_uri": "https://localhost:8080/"
        },
        "outputId": "f58471ce-da72-4320-d27b-209e4ee2adf7"
      },
      "execution_count": null,
      "outputs": [
        {
          "output_type": "stream",
          "name": "stdout",
          "text": [
            "\u001b[33mWARNING: Running pip as the 'root' user can result in broken permissions and conflicting behaviour with the system package manager. It is recommended to use a virtual environment instead: https://pip.pypa.io/warnings/venv\u001b[0m\u001b[33m\n",
            "\u001b[0m/content/yolov7\n",
            "mkdir: cannot create directory ‘mydata’: File exists\n",
            "Downloading...\n",
            "From: https://drive.google.com/uc?id=1X714KcFQ2HbHegVXhMGyz5jXKUTMq-Al\n",
            "To: /content/yolov7/mydata/car-plates.yaml\n",
            "100% 683/683 [00:00<00:00, 1.20MB/s]\n",
            "Downloading...\n",
            "From: https://drive.google.com/uc?id=1KgKUtrtU3e2-oKPekY26QFLJhFGEkHur\n",
            "To: /content/yolov7/mydata/yolov5n.yaml\n",
            "100% 1.40k/1.40k [00:00<00:00, 2.45MB/s]\n",
            "Downloading...\n",
            "From: https://drive.google.com/uc?id=1EcP2eGphfqe4KGsQaTEeUakifhMWOrac\n",
            "To: /content/yolov7/mydata/yolov5s.yaml\n",
            "100% 1.40k/1.40k [00:00<00:00, 2.09MB/s]\n",
            "Downloading...\n",
            "From: https://drive.google.com/uc?id=1whQDYEi7TVf37WRjNK3OPtMll69rxEoF\n",
            "To: /content/yolov7/mydata/yolov5m.yaml\n",
            "100% 1.40k/1.40k [00:00<00:00, 2.59MB/s]\n",
            "Downloading...\n",
            "From: https://drive.google.com/uc?id=1yLFcx5jytMPFIMZtTFM_8BvXIIe_TYZY\n",
            "To: /content/yolov7/mydata/yolov5x.yaml\n",
            "100% 1.40k/1.40k [00:00<00:00, 2.48MB/s]\n",
            "Downloading...\n",
            "From: https://drive.google.com/uc?id=1uD2zKZNZ-hdx_u7yEoHdufDqmY4LrUHv\n",
            "To: /content/yolov7/mydata/yolov5m6.yaml\n",
            "100% 1.82k/1.82k [00:00<00:00, 3.17MB/s]\n",
            "Downloading...\n",
            "From: https://drive.google.com/uc?id=1OS9gjRPyqzQzOrh2eeBi9O208B9ZkcyL\n",
            "To: /content/yolov7/mydata/car-plates-v7.yaml\n",
            "100% 832/832 [00:00<00:00, 1.50MB/s]\n",
            "Downloading...\n",
            "From: https://drive.google.com/uc?id=1h6CPfVwFm-F420EpvmZKOaiFKNXQX55q\n",
            "To: /content/yolov7/mydata/yolov7e6.yaml\n",
            "100% 5.48k/5.48k [00:00<00:00, 9.82MB/s]\n"
          ]
        }
      ]
    },
    {
      "cell_type": "markdown",
      "source": [
        "## yolov5n baseline "
      ],
      "metadata": {
        "id": "Ku6GMcc9vBBw"
      }
    },
    {
      "cell_type": "code",
      "source": [
        "!python train.py --data mydata/car-plates.yaml --cfg mydata/yolov5n.yaml --weights yolov5n.pt --name yolov5n_baseline --epochs 40"
      ],
      "metadata": {
        "id": "bUAaXOxkua-u"
      },
      "execution_count": null,
      "outputs": []
    },
    {
      "cell_type": "code",
      "source": [],
      "metadata": {
        "id": "FxAMVJ79ubBM"
      },
      "execution_count": null,
      "outputs": []
    },
    {
      "cell_type": "code",
      "source": [],
      "metadata": {
        "id": "N-DJDjPzubD6"
      },
      "execution_count": null,
      "outputs": []
    },
    {
      "cell_type": "markdown",
      "source": [
        "## yolov5s baseline "
      ],
      "metadata": {
        "id": "LHrvhYJpvRb6"
      }
    },
    {
      "cell_type": "code",
      "source": [
        "!python train.py --data mydata/car-plates.yaml --cfg mydata/yolov5s.yaml --weights yolov5s.pt --name yolov5s_baseline --epochs 30"
      ],
      "metadata": {
        "id": "FvB7VpbTubGl"
      },
      "execution_count": null,
      "outputs": []
    },
    {
      "cell_type": "code",
      "source": [],
      "metadata": {
        "id": "Ajk4KYmFubJQ"
      },
      "execution_count": null,
      "outputs": []
    },
    {
      "cell_type": "code",
      "source": [],
      "metadata": {
        "id": "sayJCvW0ubMF"
      },
      "execution_count": null,
      "outputs": []
    },
    {
      "cell_type": "markdown",
      "source": [
        "## yolov5m baseline "
      ],
      "metadata": {
        "id": "GM_V_0ccvTcn"
      }
    },
    {
      "cell_type": "code",
      "source": [
        "!python train.py --data mydata/car-plates.yaml --cfg mydata/yolov5m.yaml --weights yolov5m.pt --name yolov5m_baseline --epochs 30"
      ],
      "metadata": {
        "id": "X9SpDs2AubOy"
      },
      "execution_count": null,
      "outputs": []
    },
    {
      "cell_type": "code",
      "source": [
        "!python detect.py --weights /content/yolov5/runs/train/yolov5m_baseline/weights/best.pt --conf 0.13 --source /content/drive/MyDrive/car-plates-dataset-yolo-format/videos/test_video.mkv"
      ],
      "metadata": {
        "id": "P13vAXrGubRu"
      },
      "execution_count": null,
      "outputs": []
    },
    {
      "cell_type": "code",
      "source": [
        "%cp -av \"/content/yolov5/runs/detect/exp7\" \"/content/drive/MyDrive/yolov5n_30epochs_-1batchsize_car-plates/exp\""
      ],
      "metadata": {
        "id": "x8_Ym-HBubUh",
        "colab": {
          "base_uri": "https://localhost:8080/"
        },
        "outputId": "b2b9fd5d-9759-4b05-f2f0-a9d3e9214dde"
      },
      "execution_count": null,
      "outputs": [
        {
          "output_type": "stream",
          "name": "stdout",
          "text": [
            "'/content/yolov5/runs/detect/exp7' -> '/content/drive/MyDrive/yolov5n_30epochs_-1batchsize_car-plates/exp/exp7'\n",
            "'/content/yolov5/runs/detect/exp7/test_video.mp4' -> '/content/drive/MyDrive/yolov5n_30epochs_-1batchsize_car-plates/exp/exp7/test_video.mp4'\n"
          ]
        }
      ]
    },
    {
      "cell_type": "markdown",
      "source": [
        "#yolov5x baseline"
      ],
      "metadata": {
        "id": "oc8tbOJEsNBL"
      }
    },
    {
      "cell_type": "code",
      "source": [
        "!python train.py --data mydata/car-plates.yaml --cfg mydata/yolov5x.yaml --weights yolov5x.pt --name yolov5x_baseline --epochs 90"
      ],
      "metadata": {
        "id": "tvgL59xvsSp0"
      },
      "execution_count": null,
      "outputs": []
    },
    {
      "cell_type": "code",
      "source": [
        "!python detect.py --weights /content/yolov5/runs/train/yolov5x_baseline/weights/best.pt --conf 0.09 --source /content/drive/MyDrive/car-plates-dataset-yolo-format/videos/test_video.mkv"
      ],
      "metadata": {
        "id": "2gkm8qz4tFlK"
      },
      "execution_count": null,
      "outputs": []
    },
    {
      "cell_type": "code",
      "source": [
        "%cp -av \"/content/yolov5/runs/detect/exp13\" \"/content/drive/MyDrive/yolov5n_30epochs_-1batchsize_car-plates/exp\""
      ],
      "metadata": {
        "id": "4kyNfCPotAKb"
      },
      "execution_count": null,
      "outputs": []
    },
    {
      "cell_type": "code",
      "source": [
        "%cp -av \"/content/yolov5/runs/train/yolov5x_baseline4\" \"/content/drive/MyDrive/yolov5n_30epochs_-1batchsize_car-plates/exp\""
      ],
      "metadata": {
        "id": "vM4h9ITyuuzG"
      },
      "execution_count": null,
      "outputs": []
    },
    {
      "cell_type": "markdown",
      "source": [
        "#yolov5m6 baseline"
      ],
      "metadata": {
        "id": "PTQW18mZeZb5"
      }
    },
    {
      "cell_type": "code",
      "source": [
        "!python train.py --data mydata/car-plates.yaml --cfg mydata/yolov5m6.yaml --weights yolov5m6.pt --name yolov5m6_baseline --epochs 100 --img 1280 --batch-size 8"
      ],
      "metadata": {
        "id": "ZT1Tve2HedvP"
      },
      "execution_count": null,
      "outputs": []
    },
    {
      "cell_type": "code",
      "source": [
        "%cp -av \"/content/yolov5/runs/train/yolov5m6_baseline9\" \"/content/drive/MyDrive/yolov5n_30epochs_-1batchsize_car-plates/exp\""
      ],
      "metadata": {
        "id": "_5pb9WBSelzG"
      },
      "execution_count": null,
      "outputs": []
    },
    {
      "cell_type": "code",
      "source": [
        "!python detect.py --weights /content/yolov5/runs/train/yolov5m6_baseline9/weights/best.pt --conf 0.09 --source /content/drive/MyDrive/car-plates-dataset-yolo-format/videos/парковка.MOV --img 1280"
      ],
      "metadata": {
        "id": "LL_HQs8eeuXX"
      },
      "execution_count": null,
      "outputs": []
    },
    {
      "cell_type": "code",
      "source": [
        "%cp -av \"/content/yolov5/runs/detect/exp4\" \"/content/drive/MyDrive/yolov5n_30epochs_-1batchsize_car-plates/exp\""
      ],
      "metadata": {
        "colab": {
          "base_uri": "https://localhost:8080/"
        },
        "id": "HkDGrYWQs827",
        "outputId": "e5bc5c68-adf0-4795-c9e9-7c3c090c4f62"
      },
      "execution_count": null,
      "outputs": [
        {
          "output_type": "stream",
          "name": "stdout",
          "text": [
            "'/content/yolov5/runs/detect/exp4/парковка.mp4' -> '/content/drive/MyDrive/yolov5n_30epochs_-1batchsize_car-plates/exp/exp4/парковка.mp4'\n"
          ]
        }
      ]
    },
    {
      "cell_type": "markdown",
      "source": [
        "#yolov7e6 baseline"
      ],
      "metadata": {
        "id": "HDXE_-iZEIhS"
      }
    },
    {
      "cell_type": "code",
      "source": [
        "!python train_aux.py --data mydata/car-plates-v7.yaml --cfg mydata/yolov7e6.yaml --weights yolov7-e6.pt --name yolov7e6_baseline --epochs 100  --batch-size 10"
      ],
      "metadata": {
        "id": "7HXenm9KEK-A"
      },
      "execution_count": null,
      "outputs": []
    },
    {
      "cell_type": "code",
      "source": [
        "%cp -av \"/content/yolov7/runs/train/yolov7e6_baseline15\" \"/content/drive/MyDrive/yolov5n_30epochs_-1batchsize_car-plates/exp\""
      ],
      "metadata": {
        "id": "Dk0QDQLzevNY"
      },
      "execution_count": null,
      "outputs": []
    },
    {
      "cell_type": "markdown",
      "source": [
        "#Распознавание текста"
      ],
      "metadata": {
        "id": "xPuTR2AtM57s"
      }
    },
    {
      "cell_type": "code",
      "source": [
        "!git clone https://github.com/azatnv/deep-learning-module"
      ],
      "metadata": {
        "colab": {
          "base_uri": "https://localhost:8080/"
        },
        "id": "bsyMrBuIM85V",
        "outputId": "cf2ab6cb-70fe-45ed-d740-6d8919516db4"
      },
      "execution_count": null,
      "outputs": [
        {
          "output_type": "stream",
          "name": "stdout",
          "text": [
            "Cloning into 'deep-learning-module'...\n",
            "remote: Enumerating objects: 204, done.\u001b[K\n",
            "remote: Counting objects: 100% (141/141), done.\u001b[K\n",
            "remote: Compressing objects: 100% (124/124), done.\u001b[K\n",
            "remote: Total 204 (delta 26), reused 120 (delta 16), pack-reused 63\u001b[K\n",
            "Receiving objects: 100% (204/204), 212.69 MiB | 17.08 MiB/s, done.\n",
            "Resolving deltas: 100% (37/37), done.\n",
            "Checking out files: 100% (93/93), done.\n"
          ]
        }
      ]
    },
    {
      "cell_type": "code",
      "source": [
        "!pip install -qr https://raw.githubusercontent.com/azatnv/deep-learning-module/main/requirements.txt > /dev/null"
      ],
      "metadata": {
        "colab": {
          "base_uri": "https://localhost:8080/"
        },
        "id": "R7zKlMGUN8cm",
        "outputId": "cd7c86e1-ee90-48e5-e115-a24b886e5e69"
      },
      "execution_count": null,
      "outputs": [
        {
          "output_type": "stream",
          "name": "stdout",
          "text": [
            "\u001b[33mWARNING: Running pip as the 'root' user can result in broken permissions and conflicting behaviour with the system package manager. It is recommended to use a virtual environment instead: https://pip.pypa.io/warnings/venv\u001b[0m\u001b[33m\n",
            "\u001b[0m"
          ]
        }
      ]
    },
    {
      "cell_type": "code",
      "source": [],
      "metadata": {
        "id": "1R7K8sgAY5cu"
      },
      "execution_count": null,
      "outputs": []
    }
  ]
}